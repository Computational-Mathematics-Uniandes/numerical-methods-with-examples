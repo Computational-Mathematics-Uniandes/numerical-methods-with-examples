{
 "cells": [
  {
   "cell_type": "code",
   "execution_count": 6,
   "id": "37a10ef9",
   "metadata": {
    "ExecuteTime": {
     "end_time": "2022-04-06T23:20:17.673733Z",
     "start_time": "2022-04-06T23:20:17.666732Z"
    }
   },
   "outputs": [
    {
     "name": "stdout",
     "output_type": "stream",
     "text": [
      "\n",
      "Automagic is ON, % prefix IS NOT needed for line magics.\n"
     ]
    }
   ],
   "source": [
    "#%automagic"
   ]
  },
  {
   "cell_type": "code",
   "execution_count": 32,
   "id": "2cda89ec",
   "metadata": {
    "ExecuteTime": {
     "end_time": "2022-04-06T23:28:43.824658Z",
     "start_time": "2022-04-06T23:28:43.815656Z"
    }
   },
   "outputs": [
    {
     "data": {
      "application/json": {
       "cell": {
        "!": "OSMagics",
        "HTML": "Other",
        "SVG": "Other",
        "bash": "Other",
        "capture": "ExecutionMagics",
        "cmd": "Other",
        "debug": "ExecutionMagics",
        "file": "Other",
        "html": "DisplayMagics",
        "javascript": "DisplayMagics",
        "js": "DisplayMagics",
        "latex": "DisplayMagics",
        "markdown": "DisplayMagics",
        "perl": "Other",
        "prun": "ExecutionMagics",
        "pypy": "Other",
        "python": "Other",
        "python2": "Other",
        "python3": "Other",
        "ruby": "Other",
        "script": "ScriptMagics",
        "sh": "Other",
        "svg": "DisplayMagics",
        "sx": "OSMagics",
        "system": "OSMagics",
        "time": "ExecutionMagics",
        "timeit": "ExecutionMagics",
        "writefile": "OSMagics"
       },
       "line": {
        "alias": "OSMagics",
        "alias_magic": "BasicMagics",
        "autoawait": "AsyncMagics",
        "autocall": "AutoMagics",
        "automagic": "AutoMagics",
        "autosave": "KernelMagics",
        "bookmark": "OSMagics",
        "cd": "OSMagics",
        "clear": "KernelMagics",
        "cls": "KernelMagics",
        "colors": "BasicMagics",
        "conda": "PackagingMagics",
        "config": "ConfigMagics",
        "connect_info": "KernelMagics",
        "copy": "Other",
        "ddir": "Other",
        "debug": "ExecutionMagics",
        "dhist": "OSMagics",
        "dirs": "OSMagics",
        "doctest_mode": "BasicMagics",
        "echo": "Other",
        "ed": "Other",
        "edit": "KernelMagics",
        "env": "OSMagics",
        "gui": "BasicMagics",
        "hist": "Other",
        "history": "HistoryMagics",
        "killbgscripts": "ScriptMagics",
        "ldir": "Other",
        "less": "KernelMagics",
        "load": "CodeMagics",
        "load_ext": "ExtensionMagics",
        "loadpy": "CodeMagics",
        "logoff": "LoggingMagics",
        "logon": "LoggingMagics",
        "logstart": "LoggingMagics",
        "logstate": "LoggingMagics",
        "logstop": "LoggingMagics",
        "ls": "Other",
        "lsmagic": "BasicMagics",
        "macro": "ExecutionMagics",
        "magic": "BasicMagics",
        "matplotlib": "PylabMagics",
        "mkdir": "Other",
        "more": "KernelMagics",
        "notebook": "BasicMagics",
        "page": "BasicMagics",
        "pastebin": "CodeMagics",
        "pdb": "ExecutionMagics",
        "pdef": "NamespaceMagics",
        "pdoc": "NamespaceMagics",
        "pfile": "NamespaceMagics",
        "pinfo": "NamespaceMagics",
        "pinfo2": "NamespaceMagics",
        "pip": "PackagingMagics",
        "popd": "OSMagics",
        "pprint": "BasicMagics",
        "precision": "BasicMagics",
        "prun": "ExecutionMagics",
        "psearch": "NamespaceMagics",
        "psource": "NamespaceMagics",
        "pushd": "OSMagics",
        "pwd": "OSMagics",
        "pycat": "OSMagics",
        "pylab": "PylabMagics",
        "qtconsole": "KernelMagics",
        "quickref": "BasicMagics",
        "recall": "HistoryMagics",
        "rehashx": "OSMagics",
        "reload_ext": "ExtensionMagics",
        "ren": "Other",
        "rep": "Other",
        "rerun": "HistoryMagics",
        "reset": "NamespaceMagics",
        "reset_selective": "NamespaceMagics",
        "rmdir": "Other",
        "run": "ExecutionMagics",
        "save": "CodeMagics",
        "sc": "OSMagics",
        "set_env": "OSMagics",
        "store": "StoreMagics",
        "sx": "OSMagics",
        "system": "OSMagics",
        "tb": "ExecutionMagics",
        "time": "ExecutionMagics",
        "timeit": "ExecutionMagics",
        "unalias": "OSMagics",
        "unload_ext": "ExtensionMagics",
        "who": "NamespaceMagics",
        "who_ls": "NamespaceMagics",
        "whos": "NamespaceMagics",
        "xdel": "NamespaceMagics",
        "xmode": "BasicMagics"
       }
      },
      "text/plain": [
       "Available line magics:\n",
       "%alias  %alias_magic  %autoawait  %autocall  %automagic  %autosave  %bookmark  %cd  %clear  %cls  %colors  %conda  %config  %connect_info  %copy  %ddir  %debug  %dhist  %dirs  %doctest_mode  %echo  %ed  %edit  %env  %gui  %hist  %history  %killbgscripts  %ldir  %less  %load  %load_ext  %loadpy  %logoff  %logon  %logstart  %logstate  %logstop  %ls  %lsmagic  %macro  %magic  %matplotlib  %mkdir  %more  %notebook  %page  %pastebin  %pdb  %pdef  %pdoc  %pfile  %pinfo  %pinfo2  %pip  %popd  %pprint  %precision  %prun  %psearch  %psource  %pushd  %pwd  %pycat  %pylab  %qtconsole  %quickref  %recall  %rehashx  %reload_ext  %ren  %rep  %rerun  %reset  %reset_selective  %rmdir  %run  %save  %sc  %set_env  %store  %sx  %system  %tb  %time  %timeit  %unalias  %unload_ext  %who  %who_ls  %whos  %xdel  %xmode\n",
       "\n",
       "Available cell magics:\n",
       "%%!  %%HTML  %%SVG  %%bash  %%capture  %%cmd  %%debug  %%file  %%html  %%javascript  %%js  %%latex  %%markdown  %%perl  %%prun  %%pypy  %%python  %%python2  %%python3  %%ruby  %%script  %%sh  %%svg  %%sx  %%system  %%time  %%timeit  %%writefile\n",
       "\n",
       "Automagic is ON, % prefix IS NOT needed for line magics."
      ]
     },
     "execution_count": 32,
     "metadata": {},
     "output_type": "execute_result"
    }
   ],
   "source": [
    "%lsmagic"
   ]
  },
  {
   "cell_type": "code",
   "execution_count": 2,
   "id": "dcc737ec",
   "metadata": {
    "ExecuteTime": {
     "end_time": "2022-04-06T23:19:51.289519Z",
     "start_time": "2022-04-06T23:19:49.673078Z"
    },
    "run_control": {
     "marked": false
    }
   },
   "outputs": [],
   "source": [
    "%matplotlib inline\n",
    "%matplotlib widget\n",
    "# %pip\n",
    "# ?'plot'.replace()\n",
    "%config InlineBackend.figure_format = 'retina'"
   ]
  },
  {
   "cell_type": "code",
   "execution_count": 28,
   "id": "cf291e49",
   "metadata": {
    "ExecuteTime": {
     "end_time": "2022-04-06T23:26:39.044194Z",
     "start_time": "2022-04-06T23:26:38.574156Z"
    }
   },
   "outputs": [
    {
     "name": "stdout",
     "output_type": "stream",
     "text": [
      "Hola\n"
     ]
    },
    {
     "data": {
      "application/vnd.jupyter.widget-view+json": {
       "model_id": "82e03290ea624d4ea7ba60b09611c643",
       "version_major": 2,
       "version_minor": 0
      },
      "image/png": "[encoded data removed]",
      "text/html": [
       "\n",
       "            <div style=\"display: inline-block;\">\n",
       "                <div class=\"jupyter-widgets widget-label\" style=\"text-align: center;\">\n",
       "                    Figure\n",
       "                </div>\n",
       "                <img src='data:image/png;base64,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' width=432.0/>\n",
       "            </div>\n",
       "        "
      ],
      "text/plain": [
       "Canvas(toolbar=Toolbar(toolitems=[('Home', 'Reset original view', 'home', 'home'), ('Back', 'Back to previous …"
      ]
     },
     "metadata": {},
     "output_type": "display_data"
    },
    {
     "ename": "NameError",
     "evalue": "name 'A' is not defined",
     "output_type": "error",
     "traceback": [
      "\u001b[1;31m---------------------------------------------------------------------------\u001b[0m",
      "\u001b[1;31mNameError\u001b[0m                                 Traceback (most recent call last)",
      "File \u001b[1;32m~\\AppData\\Local\\Temp\\ipykernel_23496\\424297925.py:2\u001b[0m, in \u001b[0;36m<cell line: 2>\u001b[1;34m()\u001b[0m\n\u001b[0;32m      1\u001b[0m \u001b[38;5;66;03m# codigo para la verificacion\u001b[39;00m\n\u001b[1;32m----> 2\u001b[0m \u001b[38;5;28mprint\u001b[39m(\u001b[43mA\u001b[49m)\n\u001b[0;32m      3\u001b[0m \u001b[38;5;28mprint\u001b[39m(b)\n\u001b[0;32m      4\u001b[0m \u001b[38;5;28mprint\u001b[39m(x)\n",
      "\u001b[1;31mNameError\u001b[0m: name 'A' is not defined"
     ]
    },
    {
     "ename": "NameError",
     "evalue": "name 'A' is not defined",
     "output_type": "error",
     "traceback": [
      "\u001b[1;31m---------------------------------------------------------------------------\u001b[0m",
      "\u001b[1;31mNameError\u001b[0m                                 Traceback (most recent call last)",
      "Input \u001b[1;32mIn [28]\u001b[0m, in \u001b[0;36m<cell line: 1>\u001b[1;34m()\u001b[0m\n\u001b[1;32m----> 1\u001b[0m \u001b[43mget_ipython\u001b[49m\u001b[43m(\u001b[49m\u001b[43m)\u001b[49m\u001b[38;5;241;43m.\u001b[39;49m\u001b[43mrun_line_magic\u001b[49m\u001b[43m(\u001b[49m\u001b[38;5;124;43m'\u001b[39;49m\u001b[38;5;124;43mrun\u001b[39;49m\u001b[38;5;124;43m'\u001b[39;49m\u001b[43m,\u001b[49m\u001b[43m \u001b[49m\u001b[38;5;124;43m'\u001b[39;49m\u001b[38;5;124;43mTaller4MC.ipynb\u001b[39;49m\u001b[38;5;124;43m'\u001b[39;49m\u001b[43m)\u001b[49m\n",
      "File \u001b[1;32m~\\anaconda3\\lib\\site-packages\\IPython\\core\\interactiveshell.py:2294\u001b[0m, in \u001b[0;36mInteractiveShell.run_line_magic\u001b[1;34m(self, magic_name, line, _stack_depth)\u001b[0m\n\u001b[0;32m   2292\u001b[0m     kwargs[\u001b[38;5;124m'\u001b[39m\u001b[38;5;124mlocal_ns\u001b[39m\u001b[38;5;124m'\u001b[39m] \u001b[38;5;241m=\u001b[39m \u001b[38;5;28mself\u001b[39m\u001b[38;5;241m.\u001b[39mget_local_scope(stack_depth)\n\u001b[0;32m   2293\u001b[0m \u001b[38;5;28;01mwith\u001b[39;00m \u001b[38;5;28mself\u001b[39m\u001b[38;5;241m.\u001b[39mbuiltin_trap:\n\u001b[1;32m-> 2294\u001b[0m     result \u001b[38;5;241m=\u001b[39m \u001b[43mfn\u001b[49m\u001b[43m(\u001b[49m\u001b[38;5;241;43m*\u001b[39;49m\u001b[43margs\u001b[49m\u001b[43m,\u001b[49m\u001b[43m \u001b[49m\u001b[38;5;241;43m*\u001b[39;49m\u001b[38;5;241;43m*\u001b[39;49m\u001b[43mkwargs\u001b[49m\u001b[43m)\u001b[49m\n\u001b[0;32m   2295\u001b[0m \u001b[38;5;28;01mreturn\u001b[39;00m result\n",
      "File \u001b[1;32m~\\anaconda3\\lib\\site-packages\\IPython\\core\\magics\\execution.py:717\u001b[0m, in \u001b[0;36mExecutionMagics.run\u001b[1;34m(self, parameter_s, runner, file_finder)\u001b[0m\n\u001b[0;32m    715\u001b[0m     \u001b[38;5;28;01mwith\u001b[39;00m preserve_keys(\u001b[38;5;28mself\u001b[39m\u001b[38;5;241m.\u001b[39mshell\u001b[38;5;241m.\u001b[39muser_ns, \u001b[38;5;124m'\u001b[39m\u001b[38;5;124m__file__\u001b[39m\u001b[38;5;124m'\u001b[39m):\n\u001b[0;32m    716\u001b[0m         \u001b[38;5;28mself\u001b[39m\u001b[38;5;241m.\u001b[39mshell\u001b[38;5;241m.\u001b[39muser_ns[\u001b[38;5;124m'\u001b[39m\u001b[38;5;124m__file__\u001b[39m\u001b[38;5;124m'\u001b[39m] \u001b[38;5;241m=\u001b[39m filename\n\u001b[1;32m--> 717\u001b[0m         \u001b[38;5;28;43mself\u001b[39;49m\u001b[38;5;241;43m.\u001b[39;49m\u001b[43mshell\u001b[49m\u001b[38;5;241;43m.\u001b[39;49m\u001b[43msafe_execfile_ipy\u001b[49m\u001b[43m(\u001b[49m\u001b[43mfilename\u001b[49m\u001b[43m,\u001b[49m\u001b[43m \u001b[49m\u001b[43mraise_exceptions\u001b[49m\u001b[38;5;241;43m=\u001b[39;49m\u001b[38;5;28;43;01mTrue\u001b[39;49;00m\u001b[43m)\u001b[49m\n\u001b[0;32m    718\u001b[0m     \u001b[38;5;28;01mreturn\u001b[39;00m\n\u001b[0;32m    720\u001b[0m \u001b[38;5;66;03m# Control the response to exit() calls made by the script being run\u001b[39;00m\n",
      "File \u001b[1;32m~\\anaconda3\\lib\\site-packages\\IPython\\core\\interactiveshell.py:2800\u001b[0m, in \u001b[0;36mInteractiveShell.safe_execfile_ipy\u001b[1;34m(self, fname, shell_futures, raise_exceptions)\u001b[0m\n\u001b[0;32m   2798\u001b[0m result \u001b[38;5;241m=\u001b[39m \u001b[38;5;28mself\u001b[39m\u001b[38;5;241m.\u001b[39mrun_cell(cell, silent\u001b[38;5;241m=\u001b[39m\u001b[38;5;28;01mTrue\u001b[39;00m, shell_futures\u001b[38;5;241m=\u001b[39mshell_futures)\n\u001b[0;32m   2799\u001b[0m \u001b[38;5;28;01mif\u001b[39;00m raise_exceptions:\n\u001b[1;32m-> 2800\u001b[0m     \u001b[43mresult\u001b[49m\u001b[38;5;241;43m.\u001b[39;49m\u001b[43mraise_error\u001b[49m\u001b[43m(\u001b[49m\u001b[43m)\u001b[49m\n\u001b[0;32m   2801\u001b[0m \u001b[38;5;28;01melif\u001b[39;00m \u001b[38;5;129;01mnot\u001b[39;00m result\u001b[38;5;241m.\u001b[39msuccess:\n\u001b[0;32m   2802\u001b[0m     \u001b[38;5;28;01mbreak\u001b[39;00m\n",
      "File \u001b[1;32m~\\anaconda3\\lib\\site-packages\\IPython\\core\\interactiveshell.py:240\u001b[0m, in \u001b[0;36mExecutionResult.raise_error\u001b[1;34m(self)\u001b[0m\n\u001b[0;32m    238\u001b[0m     \u001b[38;5;28;01mraise\u001b[39;00m \u001b[38;5;28mself\u001b[39m\u001b[38;5;241m.\u001b[39merror_before_exec\n\u001b[0;32m    239\u001b[0m \u001b[38;5;28;01mif\u001b[39;00m \u001b[38;5;28mself\u001b[39m\u001b[38;5;241m.\u001b[39merror_in_exec \u001b[38;5;129;01mis\u001b[39;00m \u001b[38;5;129;01mnot\u001b[39;00m \u001b[38;5;28;01mNone\u001b[39;00m:\n\u001b[1;32m--> 240\u001b[0m     \u001b[38;5;28;01mraise\u001b[39;00m \u001b[38;5;28mself\u001b[39m\u001b[38;5;241m.\u001b[39merror_in_exec\n",
      "    \u001b[1;31m[... skipping hidden 1 frame]\u001b[0m\n",
      "File \u001b[1;32m~\\AppData\\Local\\Temp\\ipykernel_23496\\424297925.py:2\u001b[0m, in \u001b[0;36m<cell line: 2>\u001b[1;34m()\u001b[0m\n\u001b[0;32m      1\u001b[0m \u001b[38;5;66;03m# codigo para la verificacion\u001b[39;00m\n\u001b[1;32m----> 2\u001b[0m \u001b[38;5;28mprint\u001b[39m(\u001b[43mA\u001b[49m)\n\u001b[0;32m      3\u001b[0m \u001b[38;5;28mprint\u001b[39m(b)\n\u001b[0;32m      4\u001b[0m \u001b[38;5;28mprint\u001b[39m(x)\n",
      "\u001b[1;31mNameError\u001b[0m: name 'A' is not defined"
     ]
    }
   ],
   "source": [
    "%run Taller4MC.ipynb"
   ]
  },
  {
   "cell_type": "code",
   "execution_count": null,
   "id": "73a9675a",
   "metadata": {
    "ExecuteTime": {
     "end_time": "2022-04-06T23:28:13.137340Z",
     "start_time": "2022-04-06T23:28:13.131336Z"
    }
   },
   "outputs": [],
   "source": [
    "# %load \"Actividad 6(regresión).py\"\n",
    "\"\"\"\n",
    "Created on Tue Mar 29 17:36:31 2022\n",
    "\n",
    "@author: Asus\n",
    "\"\"\"\n",
    "#Porfavor antes de correr el codigo siga los siguientes pasos:\n",
    "#-En la terminal de anaconda si la tiene, o en la terminal de windows(si tiene python de microsoft) o en bash(linux o mac), corra los siguientes comandos:\n",
    "    #pip install Algoritmosnumericos  (mi libreria)\n",
    "    #pip install tabulate  (para imprimir los pandas)\n",
    "    #Si no tiene instalado pip visite alguno de los siguientes links:\n",
    "        #https://technetters.com/como-instalar-pip-para-python-windows/?msclkid=16734b81b5df11ec9c420a0179c4a1b3\n",
    "        #https://www.solvetic.com/tutoriales/article/9492-como-instalar-pip-en-mac/?msclkid=94fdfc82b5df11ecb68aa89df6926118\n",
    "        #https://www.bing.com/search?q=instalar+pip+en+linux&qs=n&form=QBRE&sp=-1&pq=instalar+pip+en+linu&sc=1-20&sk=&cvid=12F733100E8B4EA9A7338331A99AAB1A\n",
    "    \n",
    "#librerias\n",
    "import Algoritmosnumericos as Alg\n",
    "import pandas as pd\n",
    "import matplotlib.pyplot as plt\n",
    "import numpy as np\n",
    "from scipy.optimize import curve_fit\n",
    "from scipy import stats\n",
    "plt.style.use('dark_background')\n",
    "\n",
    "#Aclaraciones\n",
    "print(23*'-')\n",
    "print(' ')\n",
    "print('Aclaraciones:')\n",
    "print('-Al correr este código automáticamente se guardan las imagenes en la carpeta contenida')\n",
    "print('-Se limpian los datos desde el inicio, por ende el gráfico de las 2 tablas de datos corresponden a los datos limpios;al igual que el pandas de datos, solamente se utilizan los datos desde el dato #57, por eso en la primera imagen(la de datos experimentales) no aparece la parte que es practicamente horizontal')\n",
    "print(23*'-')\n",
    "#datos\n",
    "datos1=pd.read_csv('datos refraccion angulo incidencia.txt')\n",
    "datos2=pd.read_csv('datos refraccion angulo reflexion.txt')\n",
    "datos1=datos1[57:]\n",
    "datos2=datos2[57:]\n",
    "ang_inc=datos1[\"θ\"][57:]-90\n",
    "ang_ref=datos2[\"θ\"][57:]+90\n",
    "x=np.sin(ang_inc*np.pi/180).tolist()\n",
    "y=np.sin(ang_ref*np.pi/180).tolist()\n",
    "\n",
    "#Imprimir datos\n",
    "print('Angúlo incidencia')\n",
    "print(datos1.to_markdown())\n",
    "print(23*'-')\n",
    "print('Angúlo reflexión')\n",
    "print(datos2.to_markdown())\n",
    "plt.scatter(datos1['t'],datos1['θ'],label='angulo incidencia')\n",
    "plt.scatter(datos2['t'],datos2['θ'],label='angulo reflexión')\n",
    "plt.ylabel('θ')\n",
    "plt.xlabel('t')\n",
    "plt.title('θ vs t')\n",
    "plt.legend()\n",
    "plt.savefig(\"imagen 1 (Datos experimentales).png\")\n",
    "\n",
    "#Ajuste no matricial\n",
    "print(23*'-')\n",
    "fig,ax = plt.subplots()\n",
    "ajuste=Alg.regresionlineal(x,y)\n",
    "Alg.dibujo_reglineal(x,y,0,0, '(No matricial)sin(θ) refl vs sin(θ) inc','sin(θ) inc','sin(θ) refl', ax,'ley de snell')\n",
    "plt.savefig(\"imagen 2 (Linealización y regresión lineal metódo no matricial).png\")\n",
    "print('Metódo no matricial')\n",
    "print('El ajuste es y=',ajuste[0][0],'x+',ajuste[0][1])\n",
    "print('Incertidumbre m=+-',ajuste[1][0])\n",
    "print('Incertidumbre b=+-',ajuste[1][1])\n",
    "print('El coeficiente de correlación de pearson es:',ajuste[2])\n",
    "\n",
    "#Ajuste matricial\n",
    "print(23*'-')\n",
    "fig,a = plt.subplots()\n",
    "ajuste=Alg.regresion(x,y,1,(1,1))\n",
    "Alg.dibujo_reg(x,y,1,(1,1),0,0,'(Matricial)sin(θ) refl vs sin(θ) inc','sin(θ) inc','sin(θ) refl','ley de snell',a)\n",
    "plt.savefig(\"imagen 3 (Linealización y regresión lineal metódo matricial).png\")\n",
    "print('Metódo matricial')\n",
    "print('El ajuste es y=',ajuste[0][1],'x+',ajuste[0][0])\n",
    "print('(se estima la matriz de covarianza ver conclusiones)')\n",
    "print('Incertidumbre m=+-',ajuste[1][0])\n",
    "print('Incertidumbre b=+-',ajuste[1][1])\n",
    "print('El coeficiente de correlación ajustado(ver conclusiones) es:',ajuste[2])\n",
    "\n",
    "#Ajuste por scipy\n",
    "print(23*'-')\n",
    "print('Metódo scipy (curve fit)')\n",
    "def func(x, m, b):\n",
    "    return m*x+b\n",
    "ajuste,covarianza= curve_fit(func,x,y)\n",
    "desviacionestandar=np.sqrt(np.diag(covarianza))\n",
    "m=ajuste[0]\n",
    "b=ajuste[1]\n",
    "Δm=desviacionestandar[0]\n",
    "Δb=desviacionestandar[1]\n",
    "x2=np.linspace(min(x),max(x),1000)\n",
    "fig,axs=plt.subplots()\n",
    "axs.plot(x2,x2*m+b,label='ajuste ley de snell')\n",
    "axs.scatter(x,y,label='datos ley de snell')\n",
    "axs.set_title('(Scipy) sin(θ) refl vs sin(θ) inc ')\n",
    "axs.set_xlabel('sin(θ) inc')\n",
    "axs.set_ylabel('sin(θ) refl')\n",
    "axs.legend()\n",
    "r,p=stats.pearsonr(x,y)\n",
    "print('El ajuste es y=',m,'x+',b)\n",
    "print('Incertidumbre m=+-',Δm)\n",
    "print('Incertidumbre b=+-',Δb)\n",
    "print('El coeficiente de correlación de pearson es:',r)\n",
    "plt.savefig(\"imagen 4 (scipy).png\")\n",
    "\n",
    "#Indice de refracción\n",
    "print(23*'-')\n",
    "print('La pendiente del ajuste es el indice de refracción de la gelatina sobre el indice de refracción del aire')\n",
    "print('el indice de refracción del aire se coloca como 1, por ende la pendiente es igual al indice de refracción de la gelatina')\n",
    "print('el punto de corte debe ser cercano a 0, esto concuerda con las regresiones hechas. Por ende')\n",
    "print('El índice de refracción obtenido es n=',round(m,5),'sin unidades')\n",
    "\n",
    "#Conclusión\n",
    "print(23*'-')\n",
    "print('Conclusiones:')\n",
    "print('-Hemos implementado ambos metodos de regresión lineal,adicionalmente vemos que el ajuste cumple las condiciones teóricas del modelo de refracción')\n",
    "print(' ')\n",
    "print('-Hay diferencias en las incertidumbres, ya que en el metódo matricial, al no saber(en general) la varianza, usamos la varianza residual para estimar la varianza y hallar la matriz de covarianza')\n",
    "print('-')\n",
    "print('-Tambien se encuentran diferencias en el coeficiente de correlación, ya que en el metódo no matricial se utiliza un coeficiente ajustado que solo aumenta con la disminuición del vector error y en el metódo matricial utilizamos el coeficiente de correlación de pearson')\n",
    "print('')\n",
    "print('Vemos que las incertidumbres son iguales en el metódo matricial y en la libreria de scipy, esto quiere decir que scipy tambien utiliza el metódo para estimar la matriz de covarianzas y nuestros resultados son correctos')\n",
    "print('')\n",
    "print('Por último vemos que el coeficiente de correlación  de pearson de scipy es igual al predicho por nosotros')\n",
    "print(23*'-')\n",
    "print('Fuentes:')\n",
    "print('-Mi propia libreria, ahí puede ver la implementación:','https://github.com/Ratabart666/Ratabart666/tree/main/proyecto%20de%20aplicaciones')\n",
    "print(' ')\n",
    "print('-Implementación para el coeficiente de correlación  e incertidumbres metódo matricial:http://www1.monografias.com/docs115/regresion-lineal-multiple/regresion-lineal-multiple2.shtml')\n",
    "print(' ')\n",
    "print('-Implementación coeficiente de correlación de pearson:https://glosarios.servidor-alicante.com/terminos-estadistica/coeficiente-de-correlacion-lineal-de-pearson')\n",
    "print(' ')\n",
    "print('-Implementación incertidumbres metódo no matricial:http://insertidumbre-reg-lin.blogspot.com/')\n",
    "\n",
    "\n",
    "\n",
    "\n",
    "\n",
    "\n",
    "\n",
    "\n",
    "\n"
   ]
  },
  {
   "cell_type": "code",
   "execution_count": 23,
   "id": "8295342d",
   "metadata": {
    "ExecuteTime": {
     "end_time": "2022-04-06T23:25:28.600195Z",
     "start_time": "2022-04-06T23:25:28.564191Z"
    },
    "scrolled": true
   },
   "outputs": [
    {
     "name": "stdout",
     "output_type": "stream",
     "text": [
      " El volumen de la unidad C es OS\n",
      " El número de serie del volumen es: 20A8-6EF2\n",
      "\n",
      " Directorio de C:\\Users\\Asus\\OneDrive - Universidad de los Andes\\semestre 3\\metodos comp\n",
      "\n",
      "06/04/2022  18:24    <DIR>          .\n",
      "30/03/2022  20:52    <DIR>          ..\n",
      "06/04/2022  17:29    <DIR>          .ipynb_checkpoints\n",
      "30/03/2022  15:32    <DIR>          __pycache__\n",
      "01/02/2022  18:31               770 Actividad 1 bash(linux).txt\n",
      "25/02/2022  11:36             1.413 Actividad 2(programación orientada a objetos).py\n",
      "28/02/2022  00:06             8.521 Actividad 3(metódos y derivadas númericas).py\n",
      "26/03/2022  17:36             5.255 Actividad 4 (Interpolación de Lagrange).py\n",
      "25/03/2022  10:36            17.241 Actividad 5(matrices).py\n",
      "06/04/2022  14:28             6.544 Actividad 6(regresión).py\n",
      "06/04/2022  07:32    <DIR>          Already-known-algorithms\n",
      "06/04/2022  08:41             4.830 datos refraccion angulo incidencia.txt\n",
      "06/04/2022  08:41             4.945 datos refraccion angulo reflexion.txt\n",
      "02/04/2022  19:49             1.143 datos_termodinamicos.txt\n",
      "06/04/2022  17:26            19.628 imagen 1 (Datos experimentales).png\n",
      "06/04/2022  17:26            34.151 imagen 2 (Linealización y regresión lineal metódo no matricial).png\n",
      "06/04/2022  17:26            33.684 imagen 3 (Linealización y regresión lineal metódo matricial).png\n",
      "06/04/2022  17:26            33.369 imagen 4 (scipy).png\n",
      "06/04/2022  13:38    <DIR>          numerical-method-algorithms-part-1\n",
      "05/04/2022  14:25    <DIR>          Plotting-Methods\n",
      "19/03/2022  21:35    <DIR>          Project\n",
      "26/03/2022  19:09             2.199 Quizz.ipynb\n",
      "26/03/2022  18:48            20.874 Taller1MC.ipynb\n",
      "04/04/2022  17:38         1.719.280 Taller2MC.ipynb\n",
      "04/04/2022  17:19            83.096 Taller3MC.ipynb\n",
      "06/04/2022  16:48           596.860 Taller4MC.html\n",
      "06/04/2022  17:45           173.913 Taller4MC.ipynb\n",
      "06/04/2022  14:37    <DIR>          Temas\n",
      "06/04/2022  18:24            18.618 Untitled.ipynb\n",
      "              20 archivos      2.786.334 bytes\n",
      "               9 dirs  186.057.121.792 bytes libres\n"
     ]
    }
   ],
   "source": [
    "ls"
   ]
  },
  {
   "cell_type": "code",
   "execution_count": 25,
   "id": "f18a75bf",
   "metadata": {
    "ExecuteTime": {
     "end_time": "2022-04-06T23:25:45.369810Z",
     "start_time": "2022-04-06T23:25:45.363807Z"
    }
   },
   "outputs": [],
   "source": [
    "less datos refraccion angulo incidencia.txt"
   ]
  }
 ],
 "metadata": {
  "hide_input": false,
  "kernelspec": {
   "display_name": "Python 3 (ipykernel)",
   "language": "python",
   "name": "python3"
  },
  "language_info": {
   "codemirror_mode": {
    "name": "ipython",
    "version": 3
   },
   "file_extension": ".py",
   "mimetype": "text/x-python",
   "name": "python",
   "nbconvert_exporter": "python",
   "pygments_lexer": "ipython3",
   "version": "3.8.8"
  },
  "latex_envs": {
   "LaTeX_envs_menu_present": true,
   "autoclose": false,
   "autocomplete": true,
   "bibliofile": "biblio.bib",
   "cite_by": "apalike",
   "current_citInitial": 1,
   "eqLabelWithNumbers": true,
   "eqNumInitial": 1,
   "hotkeys": {
    "equation": "Ctrl-E",
    "itemize": "Ctrl-I"
   },
   "labels_anchors": false,
   "latex_user_defs": false,
   "report_style_numbering": false,
   "user_envs_cfg": false
  },
  "nbTranslate": {
   "displayLangs": [
    "*"
   ],
   "hotkey": "alt-t",
   "langInMainMenu": true,
   "sourceLang": "en",
   "targetLang": "fr",
   "useGoogleTranslate": true
  },
  "notify_time": "30",
  "toc": {
   "base_numbering": 1,
   "nav_menu": {},
   "number_sections": true,
   "sideBar": true,
   "skip_h1_title": false,
   "title_cell": "Table of Contents",
   "title_sidebar": "Contents",
   "toc_cell": false,
   "toc_position": {},
   "toc_section_display": true,
   "toc_window_display": false
  },
  "varInspector": {
   "cols": {
    "lenName": 16,
    "lenType": 16,
    "lenVar": 40
   },
   "kernels_config": {
    "python": {
     "delete_cmd_postfix": "",
     "delete_cmd_prefix": "del ",
     "library": "var_list.py",
     "varRefreshCmd": "print(var_dic_list())"
    },
    "r": {
     "delete_cmd_postfix": ") ",
     "delete_cmd_prefix": "rm(",
     "library": "var_list.r",
     "varRefreshCmd": "cat(var_dic_list()) "
    }
   },
   "types_to_exclude": [
    "module",
    "function",
    "builtin_function_or_method",
    "instance",
    "_Feature"
   ],
   "window_display": false
  }
 },
 "nbformat": 4,
 "nbformat_minor": 5
}
