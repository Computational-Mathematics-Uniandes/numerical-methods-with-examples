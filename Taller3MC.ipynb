{
 "cells": [
  {
   "cell_type": "markdown",
   "metadata": {
    "id": "0Z8Dn_z6Mb9b"
   },
   "source": [
    "# Taller 3\n",
    "\n",
    "## Métodos Computacionales 1 2022-10\n",
    "\n",
    "Instrucciones: Suba el jupyter notebook **.ipynb** en la actividad de bloque neon. El archivo debe ser nombrado ApellidoNombre_ApellidoNombre_Taller3.ipynb. **El archivo debe poder correr en el binder de la magistral** \n",
    "\n",
    "Si un ejercicio demora **más de 10 segundos** en correr se considerará **incorrecto**.\n",
    "\n",
    "No modifique el cuaderno, ni los casos de prueba, puede correr los casos de prueba pero no modificarlos.\n",
    "\n",
    "**Entrega: Viernes 11 de Marzo 11:59 pm**"
   ]
  },
  {
   "cell_type": "markdown",
   "metadata": {},
   "source": [
    "# -----------------------------------------------------------------------------"
   ]
  },
  {
   "cell_type": "markdown",
   "metadata": {
    "id": "xLdV95A5DY-l"
   },
   "source": [
    "## Problema 1\n",
    "\n",
    "a ) Implemente el método de interpolación de Lagrange que ajuste un polinomio de grado 10 a los siguientes datos experimentales.\n",
    "\n",
    "\n",
    "\n",
    "```\n",
    "    x_values = 0, 20, 40, 60, 80, 100, 120, 140, 160, 180, 200\n",
    "    y_values = 0.0, 0.0, 0.0, 0.01, 0.16, 0.91, 1.93, 1.51, 0.43, 0.05, 0.0\n",
    "```\n",
    "\n",
    "El código debe generar una figura que contenga los puntos asociados a los datos experimentales y la curva del polinomio de Lagrange.\n",
    "\n",
    "b) Obtenga los coeficientes del polinomio interpolador anterior guardelos en la variable `coeffs`. Es decir escriba el polinomio interpolador como, \n",
    "\n",
    "$$ f(x) = \\sum_{i=0}^{10}a_ix^i$$\n",
    "\n",
    "Para verificar su resultado debe gráficar el polinomio a partir de los coeficientes junto con los puntos experimentales.\n",
    "\n"
   ]
  },
  {
   "cell_type": "markdown",
   "metadata": {},
   "source": [
    "# Solución problema 1"
   ]
  },
  {
   "cell_type": "code",
   "execution_count": 19,
   "metadata": {
    "id": "cEYXbp4cUd-h"
   },
   "outputs": [
    {
     "data": {
      "text/plain": [
       "Text(0.5, 1.0, 'Interpolación de Lagrange')"
      ]
     },
     "execution_count": 19,
     "metadata": {},
     "output_type": "execute_result"
    },
    {
     "data": {
      "image/png": "[encoded data removed]",
      "text/plain": [
       "<Figure size 432x288 with 1 Axes>"
      ]
     },
     "metadata": {
      "needs_background": "light"
     },
     "output_type": "display_data"
    }
   ],
   "source": [
    "import matplotlib.pyplot as plt\n",
    "import numpy as np\n",
    "from scipy.interpolate import lagrange\n",
    "\n",
    "\n",
    "def productoria(list):\n",
    "    despues=list[0]\n",
    "    for i in range(1,len(list)):\n",
    "        despues=despues*list[i]\n",
    "    return despues\n",
    "\n",
    "def sumatoria(list):\n",
    "    despues=list[0]\n",
    "    for i in range(1,len(list)):\n",
    "        despues=despues+list[i]\n",
    "    return despues\n",
    "\n",
    "def interpolacionlagrange(x,X,Y):#Por favor que x tenga igual numeros de puntos que y\n",
    "    coeficientes=Y\n",
    "    polinomios_x=[]\n",
    "    auxiliar=[]\n",
    "    for i in np.arange(0,len(X)):\n",
    "        for j in np.arange(0,len(X)): \n",
    "            if i!=j:\n",
    "                auxiliar.append((x-X[j])/(X[i]-X[j]))\n",
    "        polinomios_x.append(productoria(auxiliar)*coeficientes[i])\n",
    "        auxiliar=[]\n",
    "    return sumatoria(polinomios_x)\n",
    "\n",
    "x_values =[0, 20, 40, 60, 80, 100, 120, 140, 160, 180, 200]\n",
    "y_values =[0.0, 0.0, 0.0, 0.01, 0.16, 0.91, 1.93, 1.51, 0.43, 0.05, 0.0]\n",
    "\n",
    "x=np.arange(0,201,1)\n",
    "y=interpolacionlagrange(x,x_values,y_values)\n",
    "fig, ax = plt.subplots()\n",
    "ax.scatter(x_values,y_values)\n",
    "ax.plot(x,y,color='red')\n",
    "ax.set_xlabel('x')\n",
    "ax.set_ylabel('y')\n",
    "ax.set_title('Interpolación de Lagrange')"
   ]
  },
  {
   "cell_type": "code",
   "execution_count": 20,
   "metadata": {
    "colab": {
     "base_uri": "https://localhost:8080/"
    },
    "id": "P4igesASU7HW",
    "outputId": "bc3706f3-b4c2-43d5-800a-deed4116cf9e"
   },
   "outputs": [
    {
     "name": "stdout",
     "output_type": "stream",
     "text": [
      "Los coeficientes de lagrange(ordenados desde el mayor grado)\n",
      " \n",
      "[1.2387337928516307e-18, -1.2022687854800468e-15, 4.960188285383598e-13, -1.1357299158812817e-10, 1.582076370804397e-08, -1.3836045102719882e-06, 7.560958977485662e-05, -0.002473499552193564, 0.043505564980158784, -0.30817400793650745, 0.0]\n"
     ]
    }
   ],
   "source": [
    "## Coeficients\n",
    "def coeficientesinterpolacionlagrange(x,y):#Por favor que x tenga igual numeros de puntos que y\n",
    "    a=lagrange(x,y)\n",
    "    b=[]\n",
    "    for i in a:\n",
    "        b.append(i)\n",
    "    print('Los coeficientes de lagrange(ordenados desde el mayor grado)')\n",
    "    print(' ')\n",
    "    return b\n",
    "print(coeficientesinterpolacionlagrange(x_values,y_values))\n",
    "\n",
    "\n"
   ]
  },
  {
   "cell_type": "markdown",
   "metadata": {},
   "source": [
    "# -----------------------------------------------------------------------------"
   ]
  },
  {
   "cell_type": "markdown",
   "metadata": {
    "id": "TtDSGwXXOzhk"
   },
   "source": [
    "## Problema 2\n",
    "\n",
    "Una forma de generalizar el método de integración del trapecio para una integral doble de una función $f(x, y)$ consiste en dividir el plano xy en una grilla de cuadrados iguales y calcular el promedio del valor de la función de cada uno de los 4 vértices de cada cuadrado pequeño de la grilla, ver imagen.\n",
    "\n",
    "![](https://raw.githubusercontent.com/diegour1/MetodosComputacionales1/main/DataFiles/image6.png)\n",
    "\n",
    "Calcule numéricamente el volumen de una semiesfera de radio 1 (domo) centrada en el origen del plano xyz, realizando lo siguiente: \n",
    "\n",
    "\n",
    "\n",
    "*   Cree una grilla entre -1 y 1 en el plano xy, donde el número de cuadrados en cada lado de la grilla sea $n$. Es decir la grilla tendría $n+1$ puntos en cada eje, y $n^2$ cuadrados pequeños.\n",
    "*   Para cada cuadrado pequeño calcule el promedio la función en los cuatro vértices y multiplique por el área del cuadrado pequeño. Si el punto queda fuera de la esfera asuma que el valor de la función $f(x, y)$ es cero.\n",
    "*  Calcule la integral del volumen de la semiesfera de radio 1.\n",
    "\n",
    "Cree la función `volume_semisphere(n)` que recibe `int` `n` el número de cuadrados por cada lado de la grilla del plano xy, y retorna un `float` con el volumen de la semiesfera de radio 1.\n",
    "\n",
    "Al final incluya los siguientes `prints` para la evaluación de su ejercicio:\n",
    "\n",
    "\n",
    "```\n",
    "print(f\"Volume semisphere with n = 2: {volume_semisphere(2)}\")\n",
    "print(f\"Volume semisphere with n = 3: {volume_semisphere(3)}\")\n",
    "print(f\"Volume semisphere with n = 10: {volume_semisphere(10)}\")\n",
    "print(f\"Volume semisphere with n = 100: {volume_semisphere(100)}\")\n",
    "```\n",
    "\n",
    "\n"
   ]
  },
  {
   "cell_type": "markdown",
   "metadata": {},
   "source": [
    "# Solución problema 2"
   ]
  },
  {
   "cell_type": "markdown",
   "metadata": {},
   "source": [
    "La ecuación del domo es:\n",
    "\n",
    "$$f(x,y)=\\sqrt{1-x^{2}-y^{2}}$$\n"
   ]
  },
  {
   "cell_type": "code",
   "execution_count": 21,
   "metadata": {
    "id": "IUdjvIUdSouw"
   },
   "outputs": [
    {
     "name": "stdout",
     "output_type": "stream",
     "text": [
      "El valor real del el domo es:\n",
      "2.0943951023931953\n",
      "------------------\n",
      "Numericamente:\n",
      "Volume semisphere with n = 2: 4.0\n",
      "Volume semisphere with n = 3: 2.8612901479977424\n",
      "Volume semisphere with n = 10: 1.8778738675755966\n",
      "Volume semisphere with n = 100: 2.0892099447162398\n"
     ]
    }
   ],
   "source": [
    "import numpy as np\n",
    "\n",
    "\n",
    "\n",
    "\n",
    "def domo(x,y):\n",
    "    return np.sqrt(x**2+y**2)\n",
    "\n",
    "def volume_semisphere(n):\n",
    "    l=2/n\n",
    "    A0=l**2\n",
    "    V=0\n",
    "    for y in np.arange(0,1+l,l):\n",
    "        for x in np.arange(0,1+l,l):\n",
    "            #El ciclo a continuación nos permite hallar una cuarta parte del volumen\n",
    "            z1=0\n",
    "            z2=0\n",
    "            z3=0\n",
    "            z4=0\n",
    "            if x**2+y**2<=1:\n",
    "                z1=domo(x,y)\n",
    "            if (x+l)**2+y**2<=1:\n",
    "                z2=domo(x+l,y)\n",
    "            if x**2+(y+l)**2<=1:\n",
    "                z3=domo(x,y+l)\n",
    "            if (x+l)**2+(y+l)**2<=1:\n",
    "                z4=domo(x+l,y+l)\n",
    "            midz=(z1+z2+z3+z4)/4\n",
    "            V+=A0*midz\n",
    "    return 4*V\n",
    "print('El valor real del el domo es:')\n",
    "print((4/6)*np.pi)\n",
    "print('------------------')\n",
    "print('Numericamente:')       \n",
    "print(f\"Volume semisphere with n = 2: {volume_semisphere(2)}\")\n",
    "print(f\"Volume semisphere with n = 3: {volume_semisphere(3)}\")\n",
    "print(f\"Volume semisphere with n = 10: {volume_semisphere(10)}\")\n",
    "print(f\"Volume semisphere with n = 100: {volume_semisphere(100)}\")\n"
   ]
  },
  {
   "cell_type": "markdown",
   "metadata": {},
   "source": [
    "# -----------------------------------------------------------------------------"
   ]
  },
  {
   "cell_type": "markdown",
   "metadata": {
    "id": "CkoXSN869-OF"
   },
   "source": [
    "## Problema 3\n",
    "\n",
    "Considere la integral, \n",
    "\n",
    "$$ I = \\int_0^1\\sin^2(\\sqrt{100x})\\,dx$$\n",
    "\n",
    "Cree la función `gauss_integrate(n)`, que reciba el grado `n` del polinomio de Gauss-Legendre y retorne la integral de la función pedida con el método de gauss-legendre.\n",
    "\n",
    "Verifique sus resultados obtenidos usando la libreria `scipy.integrate`. Imprima los resultados obtenidos con la libreria."
   ]
  },
  {
   "cell_type": "markdown",
   "metadata": {},
   "source": [
    "# Solución problema 3"
   ]
  },
  {
   "cell_type": "markdown",
   "metadata": {},
   "source": [
    "El siguiente programa y las formúlas utilizadas, se basan en las notas dadas en clase:"
   ]
  },
  {
   "cell_type": "code",
   "execution_count": 22,
   "metadata": {
    "id": "Tx8fBk37gXrD"
   },
   "outputs": [],
   "source": [
    "from scipy.special import roots_legendre, eval_legendre\n",
    "\n",
    "def funcion(x):\n",
    "    return (np.sin((100*x)**(1/2)))**2\n",
    "\n",
    "def gauss_integrate(n,a,b):\n",
    "    x,integral=0,0\n",
    "    raices,pesos=roots_legendre(n)\n",
    "    for i in range(0,n):\n",
    "        x=(1/2)*(raices[i]*(b-a)+a+b)\n",
    "        integral+=funcion(x)*pesos[i]\n",
    "    integral=(1/2)*(b-a)*integral        \n",
    "    return integral"
   ]
  },
  {
   "cell_type": "markdown",
   "metadata": {},
   "source": [
    "Resultados propios"
   ]
  },
  {
   "cell_type": "code",
   "execution_count": 23,
   "metadata": {},
   "outputs": [
    {
     "name": "stdout",
     "output_type": "stream",
     "text": [
      "0.5024843310662972\n",
      "0.6273262731105194\n",
      "0.23603692720508793\n",
      "0.42670930479562463\n",
      "0.4558325323090854\n",
      "0.45583253230908444\n"
     ]
    }
   ],
   "source": [
    "print(gauss_integrate(1,0,1))\n",
    "print(gauss_integrate(2,0,1))\n",
    "print(gauss_integrate(3,0,1))\n",
    "print(gauss_integrate(4,0,1))\n",
    "print(gauss_integrate(20,0,1))\n",
    "print(gauss_integrate(100,0,1))"
   ]
  },
  {
   "cell_type": "markdown",
   "metadata": {},
   "source": [
    "Resultados libreria sympy"
   ]
  },
  {
   "cell_type": "code",
   "execution_count": 24,
   "metadata": {},
   "outputs": [
    {
     "name": "stdout",
     "output_type": "stream",
     "text": [
      "0.455832532309085\n"
     ]
    }
   ],
   "source": [
    "from sympy import integrate\n",
    "from sympy import *\n",
    "x=symbols('x')\n",
    "f=(sin((100*x)**(1/2)))**2\n",
    "print(integrate(f,(x,0,1)))\n",
    "\n"
   ]
  },
  {
   "cell_type": "markdown",
   "metadata": {},
   "source": [
    "Como podemos apreciar, nuestros resultados son correctos"
   ]
  }
 ],
 "metadata": {
  "colab": {
   "name": "Taller3MC.ipynb",
   "provenance": []
  },
  "kernelspec": {
   "display_name": "Python 3",
   "language": "python",
   "name": "python3"
  },
  "language_info": {
   "codemirror_mode": {
    "name": "ipython",
    "version": 3
   },
   "file_extension": ".py",
   "mimetype": "text/x-python",
   "name": "python",
   "nbconvert_exporter": "python",
   "pygments_lexer": "ipython3",
   "version": "3.8.8"
  }
 },
 "nbformat": 4,
 "nbformat_minor": 1
}
